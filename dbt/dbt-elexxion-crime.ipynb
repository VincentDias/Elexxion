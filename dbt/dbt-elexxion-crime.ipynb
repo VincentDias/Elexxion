{
 "cells": [
  {
   "cell_type": "code",
   "execution_count": null,
   "id": "13e02849",
   "metadata": {},
   "outputs": [],
   "source": [
    "spark.sql(\"CREATE CATALOG IF NOT EXISTS elexxion\")"
   ]
  },
  {
   "cell_type": "code",
   "execution_count": null,
   "id": "ecccacca",
   "metadata": {},
   "outputs": [],
   "source": [
    "spark.sql(\"SHOW CATALOGS\").show()"
   ]
  },
  {
   "cell_type": "code",
   "execution_count": null,
   "id": "7d863992",
   "metadata": {},
   "outputs": [],
   "source": [
    "spark.sql(\"CREATE SCHEMA IF NOT EXISTS elexxion.crime\")"
   ]
  },
  {
   "cell_type": "code",
   "execution_count": null,
   "id": "8d10e9d6",
   "metadata": {},
   "outputs": [],
   "source": [
    "spark.sql(\"SHOW SCHEMAS IN elexxion\").show()"
   ]
  },
  {
   "cell_type": "code",
   "execution_count": null,
   "id": "982c05e6",
   "metadata": {},
   "outputs": [],
   "source": [
    "spark.sql(\"CREATE VOLUME IF NOT EXISTS elexxion.crime.raw\")"
   ]
  },
  {
   "cell_type": "code",
   "execution_count": null,
   "id": "5b06ec5c",
   "metadata": {},
   "outputs": [],
   "source": [
    "spark.sql(\"SHOW VOLUMES IN elexxion.crime\").show()"
   ]
  },
  {
   "cell_type": "code",
   "execution_count": null,
   "id": "8dda4a49",
   "metadata": {},
   "outputs": [],
   "source": [
    "catalog = \"elexxion\"\n",
    "schema = \"crime\"\n",
    "volume = \"raw\"\n",
    "download_url = \"https://static.data.gouv.fr/resources/bases-statistiques-communale-departementale-et-regionale-de-la-delinquance-enregistree-par-la-police-et-la-gendarmerie-nationales/20250327-120914/donnee-dep-data.gouv-2024-geographie2024-produit-le2025-03-14.csv\"\n",
    "file_name = \"crime_2016_2024_departement.csv\"\n",
    "table_name = \"crime\"\n",
    "path_volume = \"/Volumes/\" + catalog + \"/\" + schema + \"/\" + volume\n",
    "path_table = catalog + \".\" + schema\n",
    "\n",
    "print(path_table)\n",
    "print(path_volume)"
   ]
  },
  {
   "cell_type": "code",
   "execution_count": null,
   "id": "a9dc027f",
   "metadata": {},
   "outputs": [],
   "source": [
    "spark.sql(f\"SHOW FILES IN VOLUME {catalog}.{schema}.{volume}\").show()"
   ]
  },
  {
   "cell_type": "code",
   "execution_count": null,
   "id": "85ae53b1",
   "metadata": {},
   "outputs": [],
   "source": [
    "spark.sql(f\"SHOW FILES IN {catalog}.{schema}.{volume}\").show()"
   ]
  }
 ],
 "metadata": {
  "kernelspec": {
   "display_name": "Python 3",
   "language": "python",
   "name": "python3"
  },
  "language_info": {
   "name": "python",
   "version": "3.13.1"
  }
 },
 "nbformat": 4,
 "nbformat_minor": 5
}
