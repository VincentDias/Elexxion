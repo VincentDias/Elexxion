{
 "cells": [
  {
   "cell_type": "code",
   "execution_count": 20,
   "id": "4fce529f",
   "metadata": {},
   "outputs": [],
   "source": [
    "# Bronze step association\n",
    "import os\n",
    "import glob\n",
    "import pandas as pd\n",
    "\n",
    "base_dir = \"c:/Users/darka/Desktop/Projets/Elexxion\"\n",
    "input_dir = os.path.join(base_dir, \"association/raw\")\n",
    "valid_dir = os.path.join(base_dir, \"association/valid\")\n",
    "parquet_dir = os.path.join(base_dir, \"association/parquet\")\n",
    "expected_fields = 23\n",
    "delimiter = \";\"\n",
    "\n",
    "os.makedirs(valid_dir, exist_ok=True)\n",
    "os.makedirs(parquet_dir, exist_ok=True)\n",
    "\n",
    "csv_files = glob.glob(os.path.join(input_dir, \"*.csv\"))\n",
    "\n",
    "for input_path in csv_files:\n",
    "  filename = os.path.basename(input_path)\n",
    "  output_path = os.path.join(valid_dir, filename.replace(\".csv\", \"_valid.csv\"))\n",
    "\n",
    "  valid_lines = []\n",
    "  error_lines = []\n",
    "\n",
    "  with open(input_path, \"r\", encoding=\"utf-8\") as file:\n",
    "    for line_number, line in enumerate(file, start=1):\n",
    "      fields = line.strip().split(delimiter)\n",
    "\n",
    "      if len(fields) == expected_fields:\n",
    "        valid_lines.append(line.strip())\n",
    "      else:\n",
    "        error_lines.append((line_number, line.strip()))\n",
    "\n",
    "  with open(output_path, \"w\", encoding=\"utf-8\") as output_file:\n",
    "    for line in valid_lines:\n",
    "      output_file.write(line + \"\\n\")\n",
    "\n",
    "valid_csv_files  = glob.glob(os.path.join(valid_dir, \"*.csv\"))\n",
    "\n",
    "for csv_path in valid_csv_files :\n",
    "  filename = os.path.basename(csv_path)\n",
    "  parquet_filename = filename.replace(\".csv\", \".parquet\")\n",
    "  parquet_path = os.path.join(parquet_dir, parquet_filename)\n",
    "\n",
    "  df = pd.read_csv(csv_path, sep=delimiter, dtype=str)\n",
    "  df.to_parquet(parquet_path, index=False)\n"
   ]
  }
 ],
 "metadata": {
  "kernelspec": {
   "display_name": "Python 3",
   "language": "python",
   "name": "python3"
  },
  "language_info": {
   "codemirror_mode": {
    "name": "ipython",
    "version": 3
   },
   "file_extension": ".py",
   "mimetype": "text/x-python",
   "name": "python",
   "nbconvert_exporter": "python",
   "pygments_lexer": "ipython3",
   "version": "3.13.1"
  }
 },
 "nbformat": 4,
 "nbformat_minor": 5
}
