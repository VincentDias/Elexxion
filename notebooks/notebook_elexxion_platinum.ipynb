{
 "cells": [
  {
   "cell_type": "code",
   "id": "initial_id",
   "metadata": {
    "collapsed": true
   },
   "source": [
    "import pandas as pd\n",
    "import os\n",
    "\n",
    "# === Define paths to gold parquets ===\n",
    "base_dir = \"..\"\n",
    "platinum_dir = os.path.join(base_dir, \"platinum\")\n",
    "os.makedirs(platinum_dir, exist_ok=True)\n",
    "\n",
    "# Load gold datasets\n",
    "asso = pd.read_parquet(os.path.join(base_dir, \"association\", \"parquet\", \"gold\",  \"df_gold_association_2004_2025_departement.parquet\"))\n",
    "crime = pd.read_parquet(os.path.join(base_dir, \"crime\", \"parquet\", \"gold\", \"df_gold_crime_2016_2024_departement.parquet\"))\n",
    "emploi = pd.read_parquet(os.path.join(base_dir, \"emploi\", \"parquet\",  \"gold\", \"df_gold_FD_EEC.parquet\"))\n",
    "\n",
    "# Normalize column names\n",
    "asso.columns = asso.columns.str.upper()\n",
    "crime.columns = crime.columns.str.upper()\n",
    "emploi.columns = emploi.columns.str.upper()\n",
    "\n",
    "# Ensure ANNEE is int and REGION is string\n",
    "asso[\"ANNEE\"] = asso[\"ANNEE\"].astype(int)\n",
    "crime[\"ANNEE\"] = crime[\"ANNEE\"].astype(int)\n",
    "emploi[\"ANNEE\"] = emploi[\"ANNEE\"].astype(int)\n",
    "asso[\"REGION\"] = asso[\"REGION\"].astype(str)\n",
    "crime[\"REGION\"] = crime[\"REGION\"].astype(str)\n",
    "\n",
    "# === Merge association and crime ===\n",
    "merged = pd.merge(crime, asso, on=[\"ANNEE\", \"DEPARTEMENT\", \"REGION\"], how=\"outer\")\n",
    "\n",
    "# === Merge with emploi on ANNEE only  ===\n",
    "merged = pd.merge(merged, emploi, on=\"ANNEE\", how=\"left\")\n",
    "\n",
    "# === Save platinum dataset ===\n",
    "platinum_path = os.path.join(platinum_dir, \"df_platinum_features.parquet\")\n",
    "merged.to_parquet(platinum_path, index=False)\n",
    "\n",
    "print(\"Platinum dataset saved to:\", platinum_path)"
   ],
   "outputs": [],
   "execution_count": null
  }
 ],
 "metadata": {
  "kernelspec": {
   "display_name": "Python 3",
   "language": "python",
   "name": "python3"
  },
  "language_info": {
   "codemirror_mode": {
    "name": "ipython",
    "version": 2
   },
   "file_extension": ".py",
   "mimetype": "text/x-python",
   "name": "python",
   "nbconvert_exporter": "python",
   "pygments_lexer": "ipython2",
   "version": "2.7.6"
  }
 },
 "nbformat": 4,
 "nbformat_minor": 5
}
