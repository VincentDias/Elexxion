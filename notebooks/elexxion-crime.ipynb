{
 "cells": [
  {
   "cell_type": "code",
   "execution_count": null,
   "id": "fde808ba",
   "metadata": {},
   "outputs": [],
   "source": [
    "# Bronze step crime\n",
    "import pandas as pd\n",
    "\n",
    "# Load CSV file\n",
    "csv_file_path = 'c:/Users/darka/Desktop/Projets/Elexxion/crime/crime_2016_2024_departement.csv'\n",
    "\n",
    "# Transform CSV in dataframe\n",
    "df = pd.read_csv(csv_file_path, sep=';', encoding='utf-8')\n",
    "\n",
    "# Save as Parquet with '_bronze' prefix\n",
    "parquet_file_path = 'c:/Users/darka/Desktop/Projets/Elexxion/crime/crime_2016_2024_departement_bronze.parquet'\n",
    "df.to_parquet(parquet_file_path, index=False)\n",
    "\n",
    "print(f'File saved as Parquet: {parquet_file_path}')"
   ]
  },
  {
   "cell_type": "code",
   "execution_count": null,
   "id": "3eb25b23",
   "metadata": {},
   "outputs": [],
   "source": [
    "# Silver step crime\n",
    "import pandas as pd\n",
    "\n",
    "# Load the bronze Parquet file\n",
    "bronze_file_path = 'c:/Users/darka/Desktop/Projets/Elexxion/crime/crime_2016_2024_departement_bronze.parquet'\n",
    "df = pd.read_parquet(bronze_file_path)\n",
    "\n",
    "# Standardize column names\n",
    "df.columns = df.columns.str.lower().str.replace(' ', '_')\n",
    "\n",
    "# Remove duplicates\n",
    "df = df.drop_duplicates()\n",
    "\n",
    "# Remove empty rows\n",
    "df = df.dropna()\n",
    "\n",
    "# Colums renaming\n",
    "df.rename(columns={'code_departement': 'departement'}, inplace=True)\n",
    "df.rename(columns={'code_region': 'region'}, inplace=True)\n",
    "df.rename(columns={'insee_pop': 'population'}, inplace=True)\n",
    "df.rename(columns={'indicateur': 'type'}, inplace=True)\n",
    "\n",
    "# Colums deleting\n",
    "df = df.drop(columns=[\"unite_de_compte\", \"insee_log\", \"insee_pop_millesime\", \"insee_log_millesime\"])\n",
    "\n",
    "# Save as silver Parquet file\n",
    "silver_file_path = 'c:/Users/darka/Desktop/Projets/Elexxion/crime/crime_2016_2024_departement_silver.parquet'\n",
    "df.to_parquet(silver_file_path, index=False)\n"
   ]
  },
  {
   "cell_type": "code",
   "execution_count": null,
   "id": "a0b5e223",
   "metadata": {},
   "outputs": [],
   "source": [
    "# Gold step crime\n",
    "import pandas as pd\n",
    "\n",
    "# Load the silver Parquet file\n",
    "silver_file_path = 'c:/Users/darka/Desktop/Projets/Elexxion/crime/crime_2016_2024_departement_silver.parquet'\n",
    "df = pd.read_parquet(silver_file_path)\n",
    "\n",
    "# Aggregate data: sum 'nombre' per department and year\n",
    "gold_df = df.groupby(['departement', 'annee', 'region', 'population'])['nombre'].sum().reset_index()\n",
    "\n",
    "# Save as gold Parquet file\n",
    "gold_file_path = 'c:/Users/darka/Desktop/Projets/Elexxion/crime/crime_2016_2024_departement_gold.parquet'\n",
    "gold_df.to_parquet(gold_file_path, index=False)"
   ]
  }
 ],
 "metadata": {
  "kernelspec": {
   "display_name": "Python 3",
   "language": "python",
   "name": "python3"
  },
  "language_info": {
   "codemirror_mode": {
    "name": "ipython",
    "version": 3
   },
   "file_extension": ".py",
   "mimetype": "text/x-python",
   "name": "python",
   "nbconvert_exporter": "python",
   "pygments_lexer": "ipython3",
   "version": "3.13.1"
  }
 },
 "nbformat": 4,
 "nbformat_minor": 5
}
