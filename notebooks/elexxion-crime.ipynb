{
 "cells": [
  {
   "cell_type": "code",
   "execution_count": 5,
   "id": "fde808ba",
   "metadata": {},
   "outputs": [
    {
     "name": "stdout",
     "output_type": "stream",
     "text": [
      "File saved as Parquet: c:/Users/darka/Desktop/Projets/Elexxion\\crime/parquet\\df_bronze_crime_2016_2024_departement.parquet\n"
     ]
    }
   ],
   "source": [
    "# Bronze step crime\n",
    "import pandas as pd\n",
    "import os\n",
    "\n",
    "base_dir = \"c:/Users/darka/Desktop/Projets/Elexxion\"\n",
    "input_csv = os.path.join(base_dir, \"crime/raw/crime_2016_2024_departement.csv\")\n",
    "output_dir = os.path.join(base_dir, \"crime/parquet\")\n",
    "\n",
    "os.makedirs(output_dir, exist_ok=True)\n",
    "\n",
    "# Transform CSV in dataframe\n",
    "df = pd.read_csv(input_csv, sep=';', encoding='utf-8')\n",
    "\n",
    "# Save as Parquet with '_df_bronze' prefix\n",
    "output_parquet = os.path.join(output_dir, \"df_bronze_crime_2016_2024_departement.parquet\")\n",
    "df.to_parquet(output_parquet, index=False)\n",
    "\n",
    "print(f'File saved as Parquet: {output_parquet}')"
   ]
  },
  {
   "cell_type": "code",
   "execution_count": 6,
   "id": "3eb25b23",
   "metadata": {},
   "outputs": [],
   "source": [
    "# Silver step crime\n",
    "import pandas as pd\n",
    "\n",
    "# Load the bronze Parquet file\n",
    "bronze_file_path = 'c:/Users/darka/Desktop/Projets/Elexxion/crime/parquet/df_bronze_crime_2016_2024_departement.parquet'\n",
    "df = pd.read_parquet(bronze_file_path)\n",
    "\n",
    "# Standardize column names\n",
    "df.columns = df.columns.str.lower().str.replace(' ', '_')\n",
    "\n",
    "# Remove duplicates\n",
    "df = df.drop_duplicates()\n",
    "\n",
    "# Remove empty rows\n",
    "df = df.dropna()\n",
    "\n",
    "# Colums renaming\n",
    "df.rename(columns={'code_departement': 'departement'}, inplace=True)\n",
    "df.rename(columns={'code_region': 'region'}, inplace=True)\n",
    "df.rename(columns={'insee_pop': 'population'}, inplace=True)\n",
    "df.rename(columns={'indicateur': 'type'}, inplace=True)\n",
    "df.rename(columns={'taux_pour_mille': 'tpm'}, inplace=True)\n",
    "\n",
    "# Colums deleting\n",
    "df = df.drop(columns=[\"unite_de_compte\", \"insee_log\", \"insee_pop_millesime\", \"insee_log_millesime\"])\n",
    "\n",
    "# Save as Parquet with '_df_silver' prefix\n",
    "silver_file_path = 'c:/Users/darka/Desktop/Projets/Elexxion/crime/parquet/df_silver_crime_2016_2024_departement.parquet'\n",
    "df.to_parquet(silver_file_path, index=False)\n"
   ]
  },
  {
   "cell_type": "code",
   "execution_count": 7,
   "id": "1bbb0131",
   "metadata": {},
   "outputs": [],
   "source": [
    "# Gold step crime\n",
    "import pandas as pd\n",
    "\n",
    "# Load the silver Parquet file\n",
    "silver_file_path = 'c:/Users/darka/Desktop/Projets/Elexxion/crime/parquet/df_silver_crime_2016_2024_departement.parquet'\n",
    "df = pd.read_parquet(silver_file_path)\n",
    "\n",
    "# Force correct types\n",
    "df['departement'] = df['departement'].astype(str)\n",
    "df['region'] = df['region'].astype(int)\n",
    "df['annee'] = df['annee'].astype(int)\n",
    "df['type'] = df['type'].astype(str)\n",
    "df['nombre'] = df['nombre'].astype(int)\n",
    "df['tpm'] = df['tpm'].astype(str)\n",
    "df['population'] = df['population'].astype(int)\n",
    "\n",
    "# Aggregate data : sum 'nombre' per department and year\n",
    "gold_df = df.groupby(['departement', 'annee', 'region', 'population'])['nombre'].sum().reset_index()\n",
    "\n",
    "# Save as Parquet with '_df_gold' prefix\n",
    "gold_file_path = 'c:/Users/darka/Desktop/Projets/Elexxion/crime/parquet/df_gold_crime_2016_2024_departement.parquet'\n",
    "gold_df.to_parquet(gold_file_path, index=False)"
   ]
  }
 ],
 "metadata": {
  "kernelspec": {
   "display_name": "Python 3",
   "language": "python",
   "name": "python3"
  },
  "language_info": {
   "codemirror_mode": {
    "name": "ipython",
    "version": 3
   },
   "file_extension": ".py",
   "mimetype": "text/x-python",
   "name": "python",
   "nbconvert_exporter": "python",
   "pygments_lexer": "ipython3",
   "version": "3.13.1"
  }
 },
 "nbformat": 4,
 "nbformat_minor": 5
}
