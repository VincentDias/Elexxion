{
 "cells": [
  {
   "cell_type": "code",
   "id": "3a2906aa",
   "metadata": {
    "ExecuteTime": {
     "end_time": "2025-05-16T18:57:35.538849Z",
     "start_time": "2025-05-16T18:56:47.185951Z"
    }
   },
   "source": [
    "import pandas as pd\n",
    "import os\n",
    "import glob\n",
    "\n",
    "base_input_dir = os.path.join(\"..\", \"emploi\")\n",
    "bronze_output_dir = os.path.join(base_input_dir, \"parquet\", \"bronze\")\n",
    "metadata_dir = os.path.join(base_input_dir, \"metadata\")\n",
    "os.makedirs(bronze_output_dir, exist_ok=True)\n",
    "\n",
    "type_map = {\n",
    "    'NUM': 'float',\n",
    "    'CHAR': 'string',\n",
    "    'DATE': 'datetime'\n",
    "}\n",
    "\n",
    "for file_path in glob.glob(os.path.join(base_input_dir, \"raw\", \"FD_csv_EEC*.csv\")):\n",
    "    filename = os.path.basename(file_path)\n",
    "    year_suffix = filename.replace(\"FD_csv_EEC\", \"\").replace(\".csv\", \"\")\n",
    "\n",
    "    if year_suffix.isdigit():\n",
    "        print(f\"Processing file for year {year_suffix}\")\n",
    "\n",
    "        full_year = f\"20{year_suffix.zfill(2)}\"\n",
    "        metadata_file = os.path.join(metadata_dir, f\"Varmod_EEC_{full_year}.csv\")\n",
    "        if not os.path.exists(metadata_file):\n",
    "            print(f\"Metadata file not found: {metadata_file}, skipping.\")\n",
    "            continue\n",
    "\n",
    "        metadata_df = pd.read_csv(metadata_file, sep=';', encoding='utf-8')\n",
    "        unique_vars = metadata_df[['COD_VAR', 'TYPE_VAR']].drop_duplicates()\n",
    "\n",
    "        dtype_mapping = {\n",
    "            row['COD_VAR']: type_map.get(row['TYPE_VAR'], 'string')\n",
    "            for _, row in unique_vars.iterrows()\n",
    "        }\n",
    "\n",
    "        df = pd.read_csv(file_path, sep=';', encoding='utf-8')\n",
    "\n",
    "        for col, dtype in dtype_mapping.items():\n",
    "            if col not in df.columns:\n",
    "                continue\n",
    "            try:\n",
    "                if dtype == 'datetime':\n",
    "                    df[col] = pd.to_datetime(df[col], errors='coerce')\n",
    "                else:\n",
    "                    df[col] = df[col].astype(dtype)\n",
    "            except Exception as e:\n",
    "                print(f\"Error converting {col} to {dtype}: {e}\")\n",
    "\n",
    "        output_parquet = os.path.join(bronze_output_dir, f\"df_bronze_FD_EEC{year_suffix}.parquet\")\n",
    "        df.to_parquet(output_parquet, index=False)\n",
    "        print(f\"Saved: {output_parquet}\")\n",
    "    else:\n",
    "        print(f\"Could not extract year from filename: {filename}\")\n"
   ],
   "outputs": [
    {
     "name": "stdout",
     "output_type": "stream",
     "text": [
      "Processing file for year 18\n",
      "Saved: ..\\emploi\\parquet\\bronze\\df_bronze_FD_EEC18.parquet\n",
      "Processing file for year 19\n",
      "Saved: ..\\emploi\\parquet\\bronze\\df_bronze_FD_EEC19.parquet\n",
      "Processing file for year 20\n",
      "Saved: ..\\emploi\\parquet\\bronze\\df_bronze_FD_EEC20.parquet\n",
      "Processing file for year 21\n",
      "Saved: ..\\emploi\\parquet\\bronze\\df_bronze_FD_EEC21.parquet\n",
      "Processing file for year 22\n",
      "Saved: ..\\emploi\\parquet\\bronze\\df_bronze_FD_EEC22.parquet\n",
      "Processing file for year 23\n",
      "Saved: ..\\emploi\\parquet\\bronze\\df_bronze_FD_EEC23.parquet\n"
     ]
    }
   ],
   "execution_count": 57
  },
  {
   "cell_type": "code",
   "id": "e66cfca9",
   "metadata": {
    "ExecuteTime": {
     "end_time": "2025-05-16T18:58:24.175626Z",
     "start_time": "2025-05-16T18:57:35.547557Z"
    }
   },
   "source": [
    "import pandas as pd\n",
    "import os\n",
    "import glob\n",
    "\n",
    "bronze_dir = os.path.join(base_input_dir, \"parquet\", \"bronze\")\n",
    "silver_dir = os.path.join(base_input_dir, \"parquet\", \"silver\")\n",
    "os.makedirs(silver_dir, exist_ok=True)\n",
    "\n",
    "for bronze_path in glob.glob(os.path.join(bronze_dir, \"df_bronze_FD_EEC*.parquet\")):\n",
    "    year_str = os.path.basename(bronze_path).split(\"EEC\")[-1].split(\".\")[0]\n",
    "    print(f\"\\nProcessing year: {year_str}\")\n",
    "\n",
    "    df = pd.read_parquet(bronze_path)\n",
    "\n",
    "    df.dropna(how='all', inplace=True)\n",
    "    df.drop_duplicates(inplace=True)\n",
    "\n",
    "    if 'ANNEE' in df.columns:\n",
    "        df.dropna(subset=['ANNEE'], inplace=True)\n",
    "    else:\n",
    "        df['ANNEE'] = int(year_str)\n",
    "\n",
   ],
   "outputs": [
    {
     "name": "stdout",
     "output_type": "stream",
     "text": [
      "\n",
      "Processing year: 18\n",
      "Saved Silver parquet: ..\\emploi\\parquet\\silver\\df_silver_FD_EEC18.parquet (423283 rows)\n",
      "\n",
      "Processing year: 19\n",
      "Saved Silver parquet: ..\\emploi\\parquet\\silver\\df_silver_FD_EEC19.parquet (415031 rows)\n",
      "\n",
      "Processing year: 20\n",
      "Saved Silver parquet: ..\\emploi\\parquet\\silver\\df_silver_FD_EEC20.parquet (318427 rows)\n",
      "\n",
      "Processing year: 21\n",
      "Saved Silver parquet: ..\\emploi\\parquet\\silver\\df_silver_FD_EEC21.parquet (343304 rows)\n",
      "\n",
      "Processing year: 22\n",
      "Saved Silver parquet: ..\\emploi\\parquet\\silver\\df_silver_FD_EEC22.parquet (348964 rows)\n",
      "\n",
      "Processing year: 23\n",
      "Saved Silver parquet: ..\\emploi\\parquet\\silver\\df_silver_FD_EEC23.parquet (348624 rows)\n"
     ]
    }
   ],
   "execution_count": 58
  },
  {
   "metadata": {
    "ExecuteTime": {
     "end_time": "2025-05-16T18:58:35.848980Z",
     "start_time": "2025-05-16T18:58:24.198850Z"
    }
   },
   "cell_type": "code",
   "source": [
    "import pandas as pd\n",
    "import os\n",
    "import glob\n",
    "\n",
    "silver_dir = os.path.join(base_input_dir, \"parquet\", \"silver\")\n",
    "gold_dir = os.path.join(base_input_dir, \"parquet\", \"gold\")\n",
    "os.makedirs(gold_dir, exist_ok=True)\n",
    "summary_output_path = os.path.join(gold_dir, \"df_gold_FD_EEC.parquet\")\n",
    "\n",
    "required_columns = ['AGE6', 'SEXE', 'ACTEU', 'EXTRIAN', 'STATUT', 'STATUTDET', 'TPPRED', 'ANNEE']\n",
    "df_all = []\n",
    "\n",
    "for silver_path in glob.glob(os.path.join(silver_dir, \"df_silver_FD_EEC*.parquet\")):\n",
    "    print(f\"Reading {os.path.basename(silver_path)}\")\n",
    "    df = pd.read_parquet(silver_path)\n",
    "\n",
    "    available_cols = [col for col in required_columns if col in df.columns]\n",
    "    df = df[available_cols]\n",
    "\n",
    "    df = df[df['ANNEE'].notna()]\n",
    "    df['ANNEE'] = df['ANNEE'].astype(int)\n",
    "    df['EXTRIAN'] = pd.to_numeric(df['EXTRIAN'], errors='coerce').fillna(0)\n",
    "\n",
    "    df_all.append(df)\n",
    "\n",
    "df_all_years = pd.concat(df_all, ignore_index=True)\n",
    "\n",
    "df_all_years['EXTRIAN'] = pd.to_numeric(df_all_years['EXTRIAN'], errors='coerce')\n",
    "df_all_years['ACTEU'] = pd.to_numeric(df_all_years['ACTEU'], errors='coerce')\n",
    "\n",
    "df_chomeurs = df_all_years[df_all_years['ACTEU'] == 2]\n",
    "df_actifs = df_all_years[df_all_years['ACTEU'].isin([1, 2])]\n",
    "\n",
    "sum_chomeurs = df_chomeurs.groupby('ANNEE')['EXTRIAN'].sum()\n",
    "sum_actifs = df_actifs.groupby('ANNEE')['EXTRIAN'].sum()\n",
    "\n",
    "summary = pd.DataFrame({\n",
    "    'taux_chomage': 100 * sum_chomeurs / sum_actifs\n",
    "}).reset_index()\n",
    "\n",
    "summary['taux_chomage'] = summary['taux_chomage'].round(2)\n",
    "\n",
    "summary.to_parquet(summary_output_path, index=False)\n",
    "\n",
    "print(f\"Gold parquet saved to: {summary_output_path}\")\n",
    "print(summary)\n"
   ],
   "id": "433c2494f9c861eb",
   "outputs": [
    {
     "name": "stdout",
     "output_type": "stream",
     "text": [
      "Reading df_silver_FD_EEC18.parquet\n",
      "Reading df_silver_FD_EEC19.parquet\n",
      "Reading df_silver_FD_EEC20.parquet\n",
      "Reading df_silver_FD_EEC21.parquet\n",
      "Reading df_silver_FD_EEC22.parquet\n",
      "Reading df_silver_FD_EEC23.parquet\n",
      "Gold parquet saved to: ..\\emploi\\parquet\\gold\\df_gold_FD_EEC.parquet\n",
      "   ANNEE  taux_chomage\n",
      "0   2018          9.06\n",
      "1   2019          8.44\n",
      "2   2020          8.01\n",
      "3   2021          7.86\n",
      "4   2022          7.31\n",
      "5   2023          7.33\n"
     ]
    }
   ],
   "execution_count": 59
  }
 ],
 "metadata": {
  "kernelspec": {
   "display_name": ".venv",
   "language": "python",
   "name": "python3"
  },
  "language_info": {
   "name": "python",
   "version": "3.10.12"
  }
 },
 "nbformat": 4,
 "nbformat_minor": 5
}
